{
 "cells": [
  {
   "cell_type": "code",
   "execution_count": 1,
   "id": "ec3e52c4",
   "metadata": {},
   "outputs": [
    {
     "data": {
      "text/plain": [
       "6"
      ]
     },
     "execution_count": 1,
     "metadata": {},
     "output_type": "execute_result"
    }
   ],
   "source": [
    "#Question 1\n",
    "a = 0\n",
    "def b():\n",
    " global a\n",
    " a = c(a)\n",
    "    \n",
    "def c(a):\n",
    " return a + 2\n",
    "\n",
    "b()\n",
    "b()\n",
    "b()\n",
    "a"
   ]
  },
  {
   "cell_type": "code",
   "execution_count": null,
   "id": "60d66a31",
   "metadata": {},
   "outputs": [],
   "source": [
    "#What value is displayed when the last expression (a) is evaluated? Explain your \n",
    "#answer by indicating what happens in every executed statement\n",
    "a = 6\n",
    "First we set the variable a = 0.\n",
    "Then we call function b() and inside it we declare the variable a as global and this means that \n",
    "this variable can be accessed by inside or outside of a function. \n",
    "We now set the value of a = c(a). \n",
    "Now the function c() is called in this case where it adds 2 to the current value of a.\n",
    "\n",
    "When we run the function calls, this is what it looks like:\n",
    "b() \n",
    "    global a = 0\n",
    "    a = c(a) ---> c() = a + 2; 0 + 2 = 2 (a is 0 here)\n",
    "    a = 2 (global variable) --- this saves the current value of a each time b function is called because\n",
    "                                it is a global variable\n",
    "b() = 2\n",
    "\n",
    "-------------------------------------------------------------\n",
    "b() \n",
    "    global a = 2\n",
    "    a = c(a) ---> c() = a + 2; 2 + 2 = 4 (a is 2 here)\n",
    "    a = 4 (global variable)\n",
    "b() = 4\n",
    "\n",
    "-------------------------------------------------------------\n",
    "b() \n",
    "    global a = 4\n",
    "    a = c(a) ---> c() = a + 2; 4 + 2 = 4 (a is 4 here)\n",
    "    a = 6 (global variable)\n",
    "b() = 6\n"
   ]
  },
  {
   "cell_type": "code",
   "execution_count": 2,
   "id": "df086a5b",
   "metadata": {},
   "outputs": [
    {
     "name": "stdout",
     "output_type": "stream",
     "text": [
      "5345\n",
      "File word.txt not found\n"
     ]
    }
   ],
   "source": [
    "#Question 2\n",
    "def file_length(file_name):\n",
    "    try:\n",
    "        file = open(file_name)\n",
    "        contents = file.read()\n",
    "        file.close()\n",
    "        print(len(contents))\n",
    "    except FileNotFoundError:\n",
    "        print ('File {} not found'.format(file_name))\n",
    "    \n",
    "file_length('words.txt')\n",
    "file_length('word.txt')"
   ]
  },
  {
   "cell_type": "code",
   "execution_count": 3,
   "id": "c75abb0a",
   "metadata": {},
   "outputs": [],
   "source": [
    "#Question 3\n",
    "class Marsupial:\n",
    "    def __init__(self):\n",
    "        self.q = []\n",
    "    def put_in_pouch(self, item):\n",
    "        self.q.append(item)\n",
    "    def pouch_contents(self):\n",
    "        return self.q\n",
    "        "
   ]
  },
  {
   "cell_type": "code",
   "execution_count": 4,
   "id": "8f802a02",
   "metadata": {},
   "outputs": [
    {
     "data": {
      "text/plain": [
       "['doll', 'firetruck', 'kitten']"
      ]
     },
     "execution_count": 4,
     "metadata": {},
     "output_type": "execute_result"
    }
   ],
   "source": [
    "m  = Marsupial()\n",
    "m.put_in_pouch('doll')\n",
    "m.put_in_pouch('firetruck')\n",
    "m.put_in_pouch('kitten')\n",
    "m.pouch_contents()\n",
    "\n",
    "    "
   ]
  },
  {
   "cell_type": "code",
   "execution_count": 5,
   "id": "59d688eb",
   "metadata": {},
   "outputs": [],
   "source": [
    "class Kangaroo(Marsupial):\n",
    "    \n",
    "    def __init__(self, xcoord=0, ycoord=0):\n",
    "        self.q = []\n",
    "        self.x = xcoord\n",
    "        self.y = ycoord\n",
    "        \n",
    "    def setx(self, xcoord):\n",
    "        self.x = xcoord\n",
    "        \n",
    "    def sety(self, ycoord):\n",
    "        self.y = ycoord\n",
    "        \n",
    "    def get(self):\n",
    "        return(self.x, self.y)\n",
    "    \n",
    "    def jump(self, dx, dy):\n",
    "        self.x += dx\n",
    "        self.y += dy\n",
    "        \n",
    "    def __str__(self):\n",
    "        return 'I am a Kangaroo located at coordinates (' + str(self.x) + ',' + str(self.y) + ')'\n",
    "        "
   ]
  },
  {
   "cell_type": "code",
   "execution_count": 6,
   "id": "bb2c5d35",
   "metadata": {},
   "outputs": [
    {
     "name": "stdout",
     "output_type": "stream",
     "text": [
      "I am a Kangaroo located at coordinates (0,0)\n"
     ]
    },
    {
     "data": {
      "text/plain": [
       "['doll', 'firetruck', 'kitten']"
      ]
     },
     "execution_count": 6,
     "metadata": {},
     "output_type": "execute_result"
    }
   ],
   "source": [
    "k = Kangaroo(0,0)\n",
    "print(k)\n",
    "k.put_in_pouch('doll')\n",
    "k.put_in_pouch('firetruck')\n",
    "k.put_in_pouch('kitten')\n",
    "k.pouch_contents()"
   ]
  },
  {
   "cell_type": "code",
   "execution_count": 7,
   "id": "42ea05f4",
   "metadata": {},
   "outputs": [
    {
     "name": "stdout",
     "output_type": "stream",
     "text": [
      "I am a Kangaroo located at coordinates (3,0)\n"
     ]
    }
   ],
   "source": [
    "k.jump(1,0)\n",
    "k.jump(1,0)\n",
    "k.jump(1,0)\n",
    "print(k)"
   ]
  },
  {
   "cell_type": "code",
   "execution_count": 8,
   "id": "7741079a",
   "metadata": {},
   "outputs": [],
   "source": [
    "#Question 4\n",
    "def collatz(x):\n",
    "    if x == 1:\n",
    "        print (int(x))\n",
    "    elif (x%2==0):\n",
    "        print (int(x))\n",
    "        collatz(x/2)\n",
    "    else:\n",
    "        print(int(x))\n",
    "        collatz((3*x)+1)\n"
   ]
  },
  {
   "cell_type": "code",
   "execution_count": 9,
   "id": "5d67ea7a",
   "metadata": {},
   "outputs": [
    {
     "name": "stdout",
     "output_type": "stream",
     "text": [
      "1\n"
     ]
    }
   ],
   "source": [
    "collatz(1)"
   ]
  },
  {
   "cell_type": "code",
   "execution_count": 10,
   "id": "88fa20b6",
   "metadata": {},
   "outputs": [
    {
     "name": "stdout",
     "output_type": "stream",
     "text": [
      "10\n",
      "5\n",
      "16\n",
      "8\n",
      "4\n",
      "2\n",
      "1\n"
     ]
    }
   ],
   "source": [
    "collatz(10)"
   ]
  },
  {
   "cell_type": "code",
   "execution_count": 11,
   "id": "01d4ca79",
   "metadata": {},
   "outputs": [
    {
     "data": {
      "text/plain": [
       "'01'"
      ]
     },
     "execution_count": 11,
     "metadata": {},
     "output_type": "execute_result"
    }
   ],
   "source": [
    "#Question 5--\n",
    "def binary(x):\n",
    "    if x == 0:\n",
    "        return 0\n",
    "    elif x <= 0:\n",
    "        print('Non negative numbers only')\n",
    "    else:\n",
    "        return (str(binary(x//2)) + str(x%2))\n",
    "        \n",
    "    \n",
    "binary(0)\n",
    "binary(1)"
   ]
  },
  {
   "cell_type": "code",
   "execution_count": 12,
   "id": "a913aba1",
   "metadata": {},
   "outputs": [
    {
     "data": {
      "text/plain": [
       "'011'"
      ]
     },
     "execution_count": 12,
     "metadata": {},
     "output_type": "execute_result"
    }
   ],
   "source": [
    "binary(3)"
   ]
  },
  {
   "cell_type": "code",
   "execution_count": 13,
   "id": "7921e053",
   "metadata": {},
   "outputs": [
    {
     "data": {
      "text/plain": [
       "'01001'"
      ]
     },
     "execution_count": 13,
     "metadata": {},
     "output_type": "execute_result"
    }
   ],
   "source": [
    "binary(9)"
   ]
  },
  {
   "cell_type": "code",
   "execution_count": null,
   "id": "5385d085",
   "metadata": {},
   "outputs": [],
   "source": [
    "#Question 6\n",
    "from html.parser import HTMLParser\n",
    "\n",
    "class HeadingParser(HTMLParser):\n",
    "    def __init__(self):\n",
    "        self.q = []\n",
    "        self.capture = False\n",
    "        \n",
    "    def handle_starttag(self, tag, attrs):\n",
    "         if tag in ('h1', 'h2'):\n",
    "            self.capture = True\n",
    "            \n",
    "    def handle_endtag(self, tag):\n",
    "        if tag in ('p', 'h1'):\n",
    "            self.capture = False\n",
    "    \n",
    "    def handle_data(self, data):\n",
    "        if self.capture:\n",
    "            print(self.data)"
   ]
  },
  {
   "cell_type": "code",
   "execution_count": null,
   "id": "35889f3b",
   "metadata": {},
   "outputs": [],
   "source": [
    "infile = open('w3c.html') \n",
    "content = infile.read() \n",
    "infile.close() \n",
    "myparser = HeadingParser() \n",
    "myparser.feed(content) "
   ]
  },
  {
   "cell_type": "code",
   "execution_count": 14,
   "id": "ab659d65",
   "metadata": {},
   "outputs": [
    {
     "data": {
      "text/plain": [
       "<sqlite3.Cursor at 0x27470ff3e30>"
      ]
     },
     "execution_count": 14,
     "metadata": {},
     "output_type": "execute_result"
    }
   ],
   "source": [
    "#Question 8\n",
    "import sqlite3\n",
    "con = sqlite3.connect('ps2.db')\n",
    "cur = con.cursor()\n",
    "cur.execute(\"DROP TABLE IF EXISTS Countries\")\n",
    "cur.execute(\"CREATE TABLE Countries (City text, Country text, Season text, Temperature '(C)' float, Rainfall '(mm)' float)\")"
   ]
  },
  {
   "cell_type": "code",
   "execution_count": 15,
   "id": "5941306b",
   "metadata": {},
   "outputs": [
    {
     "data": {
      "text/plain": [
       "<sqlite3.Cursor at 0x27470ff3e30>"
      ]
     },
     "execution_count": 15,
     "metadata": {},
     "output_type": "execute_result"
    }
   ],
   "source": [
    "cur.execute(\"INSERT INTO Countries VALUES('Mumbai', 'India', 'Winter', '24.8', '5.9')\")\n",
    "cur.execute(\"INSERT INTO Countries VALUES('Mumbai', 'India', 'Spring', '28.4', '16.2')\")\n",
    "cur.execute(\"INSERT INTO Countries VALUES('Mumbai', 'India', 'Summer', '27.9', '1549.4')\")\n",
    "cur.execute(\"INSERT INTO Countries VALUES('Mumbai', 'India', 'Fall', '27.6', '346.0')\")\n",
    "cur.execute(\"INSERT INTO Countries VALUES('London', 'United Kingdom', 'Winter', '4.2', '207.7')\")\n",
    "cur.execute(\"INSERT INTO Countries VALUES('London', 'United Kingdom', 'Spring', '8.3', '169.6')\")\n",
    "cur.execute(\"INSERT INTO Countries VALUES('London', 'United Kingdom', 'Summer', '15.7', '157.0')\")\n",
    "cur.execute(\"INSERT INTO Countries VALUES('London', 'United Kingdom', 'Fall', '10.4', '218.5')\")\n",
    "cur.execute(\"INSERT INTO Countries VALUES('Cairo', 'Egypt', 'Winter', '13.6', '16.5')\")\n",
    "cur.execute(\"INSERT INTO Countries VALUES('Cairo', 'Egypt', 'Spring', '20.7', '6.5')\")\n",
    "cur.execute(\"INSERT INTO Countries VALUES('Cairo', 'Egypt', 'Summer', '27.7', '0.1')\")\n",
    "cur.execute(\"INSERT INTO Countries VALUES('Cairo', 'Egypt', 'Fall', '22.2', '4.5')\")"
   ]
  },
  {
   "cell_type": "code",
   "execution_count": 16,
   "id": "9dedcd83",
   "metadata": {},
   "outputs": [
    {
     "data": {
      "text/plain": [
       "[('Mumbai', 'India', 'Winter', 24.8, 5.9),\n",
       " ('Mumbai', 'India', 'Spring', 28.4, 16.2),\n",
       " ('Mumbai', 'India', 'Summer', 27.9, 1549.4),\n",
       " ('Mumbai', 'India', 'Fall', 27.6, 346),\n",
       " ('London', 'United Kingdom', 'Winter', 4.2, 207.7),\n",
       " ('London', 'United Kingdom', 'Spring', 8.3, 169.6),\n",
       " ('London', 'United Kingdom', 'Summer', 15.7, 157),\n",
       " ('London', 'United Kingdom', 'Fall', 10.4, 218.5),\n",
       " ('Cairo', 'Egypt', 'Winter', 13.6, 16.5),\n",
       " ('Cairo', 'Egypt', 'Spring', 20.7, 6.5),\n",
       " ('Cairo', 'Egypt', 'Summer', 27.7, 0.1),\n",
       " ('Cairo', 'Egypt', 'Fall', 22.2, 4.5)]"
      ]
     },
     "execution_count": 16,
     "metadata": {},
     "output_type": "execute_result"
    }
   ],
   "source": [
    "cur.execute(\"SELECT * FROM Countries\")\n",
    "cur.fetchall()"
   ]
  },
  {
   "cell_type": "code",
   "execution_count": 17,
   "id": "41a1c2d0",
   "metadata": {},
   "outputs": [
    {
     "data": {
      "text/plain": [
       "[(24.8,),\n",
       " (28.4,),\n",
       " (27.9,),\n",
       " (27.6,),\n",
       " (4.2,),\n",
       " (8.3,),\n",
       " (15.7,),\n",
       " (10.4,),\n",
       " (13.6,),\n",
       " (20.7,),\n",
       " (27.7,),\n",
       " (22.2,)]"
      ]
     },
     "execution_count": 17,
     "metadata": {},
     "output_type": "execute_result"
    }
   ],
   "source": [
    "# All the temperature data.\n",
    "\n",
    "cur.execute(\"SELECT Temperature FROM Countries\")\n",
    "cur.fetchall()"
   ]
  },
  {
   "cell_type": "code",
   "execution_count": 18,
   "id": "e6b4df69",
   "metadata": {},
   "outputs": [
    {
     "data": {
      "text/plain": [
       "[('Mumbai',), ('London',), ('Cairo',)]"
      ]
     },
     "execution_count": 18,
     "metadata": {},
     "output_type": "execute_result"
    }
   ],
   "source": [
    "# All the cities, but without repetition\n",
    "cur.execute(\"SELECT DISTINCT City FROM Countries\")\n",
    "cur.fetchall()"
   ]
  },
  {
   "cell_type": "code",
   "execution_count": 19,
   "id": "60b40447",
   "metadata": {},
   "outputs": [
    {
     "data": {
      "text/plain": [
       "[('Mumbai', 'India', 'Winter', 24.8, 5.9),\n",
       " ('Mumbai', 'India', 'Spring', 28.4, 16.2),\n",
       " ('Mumbai', 'India', 'Summer', 27.9, 1549.4),\n",
       " ('Mumbai', 'India', 'Fall', 27.6, 346)]"
      ]
     },
     "execution_count": 19,
     "metadata": {},
     "output_type": "execute_result"
    }
   ],
   "source": [
    "#All the records for India\n",
    "cur.execute(\"SELECT * FROM Countries WHERE Country = 'India'\")\n",
    "cur.fetchall()"
   ]
  },
  {
   "cell_type": "code",
   "execution_count": 20,
   "id": "0c507a45",
   "metadata": {},
   "outputs": [
    {
     "data": {
      "text/plain": [
       "[('Mumbai', 'India', 'Fall', 27.6, 346),\n",
       " ('London', 'United Kingdom', 'Fall', 10.4, 218.5),\n",
       " ('Cairo', 'Egypt', 'Fall', 22.2, 4.5)]"
      ]
     },
     "execution_count": 20,
     "metadata": {},
     "output_type": "execute_result"
    }
   ],
   "source": [
    "#All the Fall records\n",
    "cur.execute(\"SELECT * FROM Countries WHERE Season = 'Fall'\")\n",
    "cur.fetchall()"
   ]
  },
  {
   "cell_type": "code",
   "execution_count": 21,
   "id": "f655873a",
   "metadata": {},
   "outputs": [
    {
     "data": {
      "text/plain": [
       "[('Mumbai', 'India', 'Fall', 346),\n",
       " ('London', 'United Kingdom', 'Winter', 207.7),\n",
       " ('London', 'United Kingdom', 'Fall', 218.5)]"
      ]
     },
     "execution_count": 21,
     "metadata": {},
     "output_type": "execute_result"
    }
   ],
   "source": [
    "#The city, country, and season for which the average rainfall is between 200 and 400 millimeters\n",
    "cur.execute(\"SELECT City, Country, Season, Rainfall FROM Countries WHERE Rainfall BETWEEN 200 AND 400\")\n",
    "cur.fetchall()"
   ]
  },
  {
   "cell_type": "code",
   "execution_count": 22,
   "id": "95573f59",
   "metadata": {},
   "outputs": [
    {
     "data": {
      "text/plain": [
       "[('Cairo', 'Egypt', 22.2), ('Mumbai', 'India', 27.6)]"
      ]
     },
     "execution_count": 22,
     "metadata": {},
     "output_type": "execute_result"
    }
   ],
   "source": [
    "#The city and country for which the average Fall temperature is above 20 degrees, in increasing temperature order\n",
    "cur.execute(\"SELECT CIty, Country, Temperature FROM Countries WHERE Season = 'Fall' AND Temperature > 20 ORDER BY Temperature ASC\")\n",
    "cur.fetchall()"
   ]
  },
  {
   "cell_type": "code",
   "execution_count": 23,
   "id": "92a00c69",
   "metadata": {},
   "outputs": [
    {
     "data": {
      "text/plain": [
       "[(27.6, 'Cairo')]"
      ]
     },
     "execution_count": 23,
     "metadata": {},
     "output_type": "execute_result"
    }
   ],
   "source": [
    "#The total annual rainfall for Cairo\n",
    "cur.execute(\"SELECT SUM(Rainfall), City FROM Countries WHERE City = 'Cairo'\")\n",
    "cur.fetchall()"
   ]
  },
  {
   "cell_type": "code",
   "execution_count": 24,
   "id": "8058dd86",
   "metadata": {
    "scrolled": true
   },
   "outputs": [
    {
     "data": {
      "text/plain": [
       "[(569.0, 'Fall'),\n",
       " (192.29999999999998, 'Spring'),\n",
       " (1706.5, 'Summer'),\n",
       " (230.1, 'Winter')]"
      ]
     },
     "execution_count": 24,
     "metadata": {},
     "output_type": "execute_result"
    }
   ],
   "source": [
    "#The total rainfall for each season\n",
    "cur.execute(\"SELECT SUM(Rainfall), Season FROM Countries GROUP BY Season\")\n",
    "cur.fetchall()"
   ]
  },
  {
   "cell_type": "code",
   "execution_count": 25,
   "id": "2d9b95d0",
   "metadata": {},
   "outputs": [
    {
     "name": "stdout",
     "output_type": "stream",
     "text": [
      "['The', 'quick', 'brown', 'fox', 'jumps', 'over', 'the', 'lazy', 'dog']\n",
      "['THE', 'QUICK', 'BROWN', 'FOX', 'JUMPS', 'OVER', 'THE', 'LAZY', 'DOG']\n",
      "['the', 'quick', 'brown', 'fox', 'jumps', 'over', 'the', 'lazy', 'dog']\n",
      "[3, 5, 5, 3, 5, 4, 3, 4, 3]\n",
      "[['THE', 'the', 3], ['QUICK', 'quick', 5], ['BROWN', 'brown', 5], ['FOX', 'fox', 3], ['JUMPS', 'jumps', 5], ['OVER', 'over', 4], ['THE', 'the', 3], ['LAZY', 'lazy', 4], ['DOG', 'dog', 3]]\n",
      "[['QUICK', 'quick', 5], ['BROWN', 'brown', 5], ['JUMPS', 'jumps', 5], ['OVER', 'over', 4], ['LAZY', 'lazy', 4]]\n"
     ]
    }
   ],
   "source": [
    "#QUESTION 9\n",
    "words = ['The', 'quick', 'brown', 'fox', 'jumps', 'over', 'the', 'lazy', 'dog']\n",
    "print (words)\n",
    "\n",
    "newwords = [str.upper(w) for w in words]\n",
    "print (newwords)\n",
    "\n",
    "newwords = [str.lower(w) for w in words]\n",
    "print (newwords)\n",
    "\n",
    "newwords = [len(w) for w in words]\n",
    "print (newwords)\n",
    "\n",
    "newwords = [[str.upper(w), str.lower(w), len(w)] for w in words]\n",
    "print (newwords)\n",
    "\n",
    "newwords = [[str.upper(w), str.lower(w), len(w)] for w in words if len(w) >= 4]\n",
    "print (newwords)"
   ]
  },
  {
   "cell_type": "code",
   "execution_count": null,
   "id": "879287d9",
   "metadata": {},
   "outputs": [],
   "source": []
  }
 ],
 "metadata": {
  "kernelspec": {
   "display_name": "Python 3 (ipykernel)",
   "language": "python",
   "name": "python3"
  },
  "language_info": {
   "codemirror_mode": {
    "name": "ipython",
    "version": 3
   },
   "file_extension": ".py",
   "mimetype": "text/x-python",
   "name": "python",
   "nbconvert_exporter": "python",
   "pygments_lexer": "ipython3",
   "version": "3.9.7"
  }
 },
 "nbformat": 4,
 "nbformat_minor": 5
}
